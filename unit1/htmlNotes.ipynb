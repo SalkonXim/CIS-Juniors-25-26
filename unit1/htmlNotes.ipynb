{
 "cells": [
  {
   "cell_type": "markdown",
   "id": "aea1c4c3",
   "metadata": {},
   "source": [
    "# Introduction to HTML"
   ]
  },
  {
   "cell_type": "markdown",
   "id": "10744c1e",
   "metadata": {},
   "source": [
    "## HTML Defined\n",
    "\n",
    "**HTML** - Hypertext Markup Language - This is the langauge used to describe your content\n",
    "\n",
    "**CSS** - Cascading Style Sheets - This is the language used to design the way your content looks on the web \n",
    "\n",
    "**JavaScript** - NOT to be confused with Java - JS is the language used for adding interactivities to web pages.\n",
    "\n",
    "*** These are the 3 main web languages "
   ]
  },
  {
   "cell_type": "markdown",
   "id": "86c322f3",
   "metadata": {},
   "source": [
    "### Web Browsers\n",
    "\n",
    "* Software used for browsing, reading, and translating web documents \n",
    "* Examples of web browsers:\n",
    "    * Google Chrome\n",
    "    * FireFox\n",
    "    * Safari\n",
    "    * Microsoft Edge\n",
    "    * Opera GX\n",
    "    * Duck Duck Go \n",
    "    * Brave \n",
    "    * Internet Ecplorer (MS) - Depricated\n",
    "    * Netscape - Depricated\n",
    "* Why you do not use old or UN-Updated browsers\n",
    "    * Security - security updates "
   ]
  },
  {
   "cell_type": "markdown",
   "id": "9b0de7b2",
   "metadata": {},
   "source": [
    "### HTML Skeleton/Structure\n",
    "\n",
    "#### See index.html in this folder \n",
    "\n",
    "### Structure of an HTML Tag:\n",
    "\n",
    "<meta charset=\"UTF-8\">\n",
    "\n",
    "* Tag name\n",
    "* Attribute Name\n",
    "* Attibute Value    \n"
   ]
  },
  {
   "cell_type": "markdown",
   "id": "c96139d1",
   "metadata": {},
   "source": [
    "### Key Concepts of HTML\n",
    "\n",
    "* Most HTML Tags have an Opening & Closing Tag\n",
    "* HTML Elements - These are created by a complete pair of tags with content\n",
    "* Attributes - additional information about the elements\n",
    "\n",
    "#### Essential HTML Elements: \n",
    "\n",
    "* < h1 > </ h1 > through < h6 > </ h6 > (headings), H1 is the largest by default and h6 is the smallest\n",
    "* < p > </ p > - paragraph element\n",
    "< br > - Line Break"
   ]
  },
  {
   "cell_type": "markdown",
   "id": "5bca3bce",
   "metadata": {},
   "source": []
  }
 ],
 "metadata": {
  "language_info": {
   "name": "python"
  }
 },
 "nbformat": 4,
 "nbformat_minor": 5
}
